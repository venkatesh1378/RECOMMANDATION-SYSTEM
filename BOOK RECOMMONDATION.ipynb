{
 "cells": [
  {
   "cell_type": "code",
   "execution_count": 1,
   "id": "51838461-d03e-4b11-9577-941cdd1cdf3f",
   "metadata": {},
   "outputs": [],
   "source": [
    "import pandas as pd\n",
    "import numpy as np\n",
    "import matplotlib.pyplot as plt\n",
    "import seaborn as sns\n"
   ]
  },
  {
   "cell_type": "code",
   "execution_count": 2,
   "id": "6bb6d069-9014-4842-8d51-a986110035ee",
   "metadata": {},
   "outputs": [],
   "source": [
    "file_path=\"D:\\\\MACHINE LEARNING\\\\RECOMMANDATION ENGINE\\\\projects\\\\datasets\\\\books_data.csv\"\n",
    "book_df=pd.read_csv(file_path)"
   ]
  },
  {
   "cell_type": "code",
   "execution_count": 3,
   "id": "f6c62647-3258-4294-9a27-bb0593349417",
   "metadata": {},
   "outputs": [
    {
     "data": {
      "text/html": [
       "<div>\n",
       "<style scoped>\n",
       "    .dataframe tbody tr th:only-of-type {\n",
       "        vertical-align: middle;\n",
       "    }\n",
       "\n",
       "    .dataframe tbody tr th {\n",
       "        vertical-align: top;\n",
       "    }\n",
       "\n",
       "    .dataframe thead th {\n",
       "        text-align: right;\n",
       "    }\n",
       "</style>\n",
       "<table border=\"1\" class=\"dataframe\">\n",
       "  <thead>\n",
       "    <tr style=\"text-align: right;\">\n",
       "      <th></th>\n",
       "      <th>bookID</th>\n",
       "      <th>title</th>\n",
       "      <th>authors</th>\n",
       "      <th>average_rating</th>\n",
       "    </tr>\n",
       "  </thead>\n",
       "  <tbody>\n",
       "    <tr>\n",
       "      <th>0</th>\n",
       "      <td>1</td>\n",
       "      <td>Harry Potter and the Half-Blood Prince (Harry ...</td>\n",
       "      <td>J.K. Rowling/Mary GrandPré</td>\n",
       "      <td>4.57</td>\n",
       "    </tr>\n",
       "    <tr>\n",
       "      <th>1</th>\n",
       "      <td>2</td>\n",
       "      <td>Harry Potter and the Order of the Phoenix (Har...</td>\n",
       "      <td>J.K. Rowling/Mary GrandPré</td>\n",
       "      <td>4.49</td>\n",
       "    </tr>\n",
       "    <tr>\n",
       "      <th>2</th>\n",
       "      <td>4</td>\n",
       "      <td>Harry Potter and the Chamber of Secrets (Harry...</td>\n",
       "      <td>J.K. Rowling</td>\n",
       "      <td>4.42</td>\n",
       "    </tr>\n",
       "    <tr>\n",
       "      <th>3</th>\n",
       "      <td>5</td>\n",
       "      <td>Harry Potter and the Prisoner of Azkaban (Harr...</td>\n",
       "      <td>J.K. Rowling/Mary GrandPré</td>\n",
       "      <td>4.56</td>\n",
       "    </tr>\n",
       "    <tr>\n",
       "      <th>4</th>\n",
       "      <td>8</td>\n",
       "      <td>Harry Potter Boxed Set  Books 1-5 (Harry Potte...</td>\n",
       "      <td>J.K. Rowling/Mary GrandPré</td>\n",
       "      <td>4.78</td>\n",
       "    </tr>\n",
       "    <tr>\n",
       "      <th>...</th>\n",
       "      <td>...</td>\n",
       "      <td>...</td>\n",
       "      <td>...</td>\n",
       "      <td>...</td>\n",
       "    </tr>\n",
       "    <tr>\n",
       "      <th>11122</th>\n",
       "      <td>45631</td>\n",
       "      <td>Expelled from Eden: A William T. Vollmann Reader</td>\n",
       "      <td>William T. Vollmann/Larry McCaffery/Michael He...</td>\n",
       "      <td>4.06</td>\n",
       "    </tr>\n",
       "    <tr>\n",
       "      <th>11123</th>\n",
       "      <td>45633</td>\n",
       "      <td>You Bright and Risen Angels</td>\n",
       "      <td>William T. Vollmann</td>\n",
       "      <td>4.08</td>\n",
       "    </tr>\n",
       "    <tr>\n",
       "      <th>11124</th>\n",
       "      <td>45634</td>\n",
       "      <td>The Ice-Shirt (Seven Dreams #1)</td>\n",
       "      <td>William T. Vollmann</td>\n",
       "      <td>3.96</td>\n",
       "    </tr>\n",
       "    <tr>\n",
       "      <th>11125</th>\n",
       "      <td>45639</td>\n",
       "      <td>Poor People</td>\n",
       "      <td>William T. Vollmann</td>\n",
       "      <td>3.72</td>\n",
       "    </tr>\n",
       "    <tr>\n",
       "      <th>11126</th>\n",
       "      <td>45641</td>\n",
       "      <td>Las aventuras de Tom Sawyer</td>\n",
       "      <td>Mark Twain</td>\n",
       "      <td>3.91</td>\n",
       "    </tr>\n",
       "  </tbody>\n",
       "</table>\n",
       "<p>11127 rows × 4 columns</p>\n",
       "</div>"
      ],
      "text/plain": [
       "       bookID                                              title  \\\n",
       "0           1  Harry Potter and the Half-Blood Prince (Harry ...   \n",
       "1           2  Harry Potter and the Order of the Phoenix (Har...   \n",
       "2           4  Harry Potter and the Chamber of Secrets (Harry...   \n",
       "3           5  Harry Potter and the Prisoner of Azkaban (Harr...   \n",
       "4           8  Harry Potter Boxed Set  Books 1-5 (Harry Potte...   \n",
       "...       ...                                                ...   \n",
       "11122   45631   Expelled from Eden: A William T. Vollmann Reader   \n",
       "11123   45633                        You Bright and Risen Angels   \n",
       "11124   45634                    The Ice-Shirt (Seven Dreams #1)   \n",
       "11125   45639                                        Poor People   \n",
       "11126   45641                        Las aventuras de Tom Sawyer   \n",
       "\n",
       "                                                 authors average_rating  \n",
       "0                             J.K. Rowling/Mary GrandPré           4.57  \n",
       "1                             J.K. Rowling/Mary GrandPré           4.49  \n",
       "2                                           J.K. Rowling           4.42  \n",
       "3                             J.K. Rowling/Mary GrandPré           4.56  \n",
       "4                             J.K. Rowling/Mary GrandPré           4.78  \n",
       "...                                                  ...            ...  \n",
       "11122  William T. Vollmann/Larry McCaffery/Michael He...           4.06  \n",
       "11123                                William T. Vollmann           4.08  \n",
       "11124                                William T. Vollmann           3.96  \n",
       "11125                                William T. Vollmann           3.72  \n",
       "11126                                         Mark Twain           3.91  \n",
       "\n",
       "[11127 rows x 4 columns]"
      ]
     },
     "execution_count": 3,
     "metadata": {},
     "output_type": "execute_result"
    }
   ],
   "source": [
    "book_df"
   ]
  },
  {
   "cell_type": "code",
   "execution_count": 4,
   "id": "85fd7509-f4b5-4906-b801-9c19bced2e40",
   "metadata": {},
   "outputs": [],
   "source": [
    "#basic checks"
   ]
  },
  {
   "cell_type": "code",
   "execution_count": 5,
   "id": "ff1f6b35-18dd-470f-8476-c1dc0925006e",
   "metadata": {},
   "outputs": [
    {
     "data": {
      "text/plain": [
       "44508"
      ]
     },
     "execution_count": 5,
     "metadata": {},
     "output_type": "execute_result"
    }
   ],
   "source": [
    "book_df.size"
   ]
  },
  {
   "cell_type": "code",
   "execution_count": 6,
   "id": "d8c56315-c2e5-4ed5-a798-659542736d6d",
   "metadata": {},
   "outputs": [
    {
     "data": {
      "text/plain": [
       "(11127, 4)"
      ]
     },
     "execution_count": 6,
     "metadata": {},
     "output_type": "execute_result"
    }
   ],
   "source": [
    "book_df.shape"
   ]
  },
  {
   "cell_type": "code",
   "execution_count": 7,
   "id": "2324f7b7-77f0-4fa5-a5cd-424a459e1fe5",
   "metadata": {},
   "outputs": [
    {
     "data": {
      "text/html": [
       "<div>\n",
       "<style scoped>\n",
       "    .dataframe tbody tr th:only-of-type {\n",
       "        vertical-align: middle;\n",
       "    }\n",
       "\n",
       "    .dataframe tbody tr th {\n",
       "        vertical-align: top;\n",
       "    }\n",
       "\n",
       "    .dataframe thead th {\n",
       "        text-align: right;\n",
       "    }\n",
       "</style>\n",
       "<table border=\"1\" class=\"dataframe\">\n",
       "  <thead>\n",
       "    <tr style=\"text-align: right;\">\n",
       "      <th></th>\n",
       "      <th>bookID</th>\n",
       "      <th>title</th>\n",
       "      <th>authors</th>\n",
       "      <th>average_rating</th>\n",
       "    </tr>\n",
       "  </thead>\n",
       "  <tbody>\n",
       "    <tr>\n",
       "      <th>0</th>\n",
       "      <td>1</td>\n",
       "      <td>Harry Potter and the Half-Blood Prince (Harry ...</td>\n",
       "      <td>J.K. Rowling/Mary GrandPré</td>\n",
       "      <td>4.57</td>\n",
       "    </tr>\n",
       "    <tr>\n",
       "      <th>1</th>\n",
       "      <td>2</td>\n",
       "      <td>Harry Potter and the Order of the Phoenix (Har...</td>\n",
       "      <td>J.K. Rowling/Mary GrandPré</td>\n",
       "      <td>4.49</td>\n",
       "    </tr>\n",
       "    <tr>\n",
       "      <th>2</th>\n",
       "      <td>4</td>\n",
       "      <td>Harry Potter and the Chamber of Secrets (Harry...</td>\n",
       "      <td>J.K. Rowling</td>\n",
       "      <td>4.42</td>\n",
       "    </tr>\n",
       "    <tr>\n",
       "      <th>3</th>\n",
       "      <td>5</td>\n",
       "      <td>Harry Potter and the Prisoner of Azkaban (Harr...</td>\n",
       "      <td>J.K. Rowling/Mary GrandPré</td>\n",
       "      <td>4.56</td>\n",
       "    </tr>\n",
       "    <tr>\n",
       "      <th>4</th>\n",
       "      <td>8</td>\n",
       "      <td>Harry Potter Boxed Set  Books 1-5 (Harry Potte...</td>\n",
       "      <td>J.K. Rowling/Mary GrandPré</td>\n",
       "      <td>4.78</td>\n",
       "    </tr>\n",
       "  </tbody>\n",
       "</table>\n",
       "</div>"
      ],
      "text/plain": [
       "   bookID                                              title  \\\n",
       "0       1  Harry Potter and the Half-Blood Prince (Harry ...   \n",
       "1       2  Harry Potter and the Order of the Phoenix (Har...   \n",
       "2       4  Harry Potter and the Chamber of Secrets (Harry...   \n",
       "3       5  Harry Potter and the Prisoner of Azkaban (Harr...   \n",
       "4       8  Harry Potter Boxed Set  Books 1-5 (Harry Potte...   \n",
       "\n",
       "                      authors average_rating  \n",
       "0  J.K. Rowling/Mary GrandPré           4.57  \n",
       "1  J.K. Rowling/Mary GrandPré           4.49  \n",
       "2                J.K. Rowling           4.42  \n",
       "3  J.K. Rowling/Mary GrandPré           4.56  \n",
       "4  J.K. Rowling/Mary GrandPré           4.78  "
      ]
     },
     "execution_count": 7,
     "metadata": {},
     "output_type": "execute_result"
    }
   ],
   "source": [
    "book_df.head()"
   ]
  },
  {
   "cell_type": "code",
   "execution_count": 8,
   "id": "7166b623-8a1f-41d9-9747-7d746567ade1",
   "metadata": {},
   "outputs": [
    {
     "data": {
      "text/html": [
       "<div>\n",
       "<style scoped>\n",
       "    .dataframe tbody tr th:only-of-type {\n",
       "        vertical-align: middle;\n",
       "    }\n",
       "\n",
       "    .dataframe tbody tr th {\n",
       "        vertical-align: top;\n",
       "    }\n",
       "\n",
       "    .dataframe thead th {\n",
       "        text-align: right;\n",
       "    }\n",
       "</style>\n",
       "<table border=\"1\" class=\"dataframe\">\n",
       "  <thead>\n",
       "    <tr style=\"text-align: right;\">\n",
       "      <th></th>\n",
       "      <th>bookID</th>\n",
       "      <th>title</th>\n",
       "      <th>authors</th>\n",
       "      <th>average_rating</th>\n",
       "    </tr>\n",
       "  </thead>\n",
       "  <tbody>\n",
       "    <tr>\n",
       "      <th>11122</th>\n",
       "      <td>45631</td>\n",
       "      <td>Expelled from Eden: A William T. Vollmann Reader</td>\n",
       "      <td>William T. Vollmann/Larry McCaffery/Michael He...</td>\n",
       "      <td>4.06</td>\n",
       "    </tr>\n",
       "    <tr>\n",
       "      <th>11123</th>\n",
       "      <td>45633</td>\n",
       "      <td>You Bright and Risen Angels</td>\n",
       "      <td>William T. Vollmann</td>\n",
       "      <td>4.08</td>\n",
       "    </tr>\n",
       "    <tr>\n",
       "      <th>11124</th>\n",
       "      <td>45634</td>\n",
       "      <td>The Ice-Shirt (Seven Dreams #1)</td>\n",
       "      <td>William T. Vollmann</td>\n",
       "      <td>3.96</td>\n",
       "    </tr>\n",
       "    <tr>\n",
       "      <th>11125</th>\n",
       "      <td>45639</td>\n",
       "      <td>Poor People</td>\n",
       "      <td>William T. Vollmann</td>\n",
       "      <td>3.72</td>\n",
       "    </tr>\n",
       "    <tr>\n",
       "      <th>11126</th>\n",
       "      <td>45641</td>\n",
       "      <td>Las aventuras de Tom Sawyer</td>\n",
       "      <td>Mark Twain</td>\n",
       "      <td>3.91</td>\n",
       "    </tr>\n",
       "  </tbody>\n",
       "</table>\n",
       "</div>"
      ],
      "text/plain": [
       "       bookID                                             title  \\\n",
       "11122   45631  Expelled from Eden: A William T. Vollmann Reader   \n",
       "11123   45633                       You Bright and Risen Angels   \n",
       "11124   45634                   The Ice-Shirt (Seven Dreams #1)   \n",
       "11125   45639                                       Poor People   \n",
       "11126   45641                       Las aventuras de Tom Sawyer   \n",
       "\n",
       "                                                 authors average_rating  \n",
       "11122  William T. Vollmann/Larry McCaffery/Michael He...           4.06  \n",
       "11123                                William T. Vollmann           4.08  \n",
       "11124                                William T. Vollmann           3.96  \n",
       "11125                                William T. Vollmann           3.72  \n",
       "11126                                         Mark Twain           3.91  "
      ]
     },
     "execution_count": 8,
     "metadata": {},
     "output_type": "execute_result"
    }
   ],
   "source": [
    "book_df.tail()"
   ]
  },
  {
   "cell_type": "code",
   "execution_count": 9,
   "id": "080282a2-cafa-4ead-acd6-038c1270404f",
   "metadata": {},
   "outputs": [
    {
     "data": {
      "text/plain": [
       "Index(['bookID', 'title', 'authors', 'average_rating'], dtype='object')"
      ]
     },
     "execution_count": 9,
     "metadata": {},
     "output_type": "execute_result"
    }
   ],
   "source": [
    "book_df.columns"
   ]
  },
  {
   "cell_type": "code",
   "execution_count": 10,
   "id": "171a0e85-6154-4e9a-9949-0d787174b528",
   "metadata": {},
   "outputs": [
    {
     "data": {
      "text/plain": [
       "bookID             int64\n",
       "title             object\n",
       "authors           object\n",
       "average_rating    object\n",
       "dtype: object"
      ]
     },
     "execution_count": 10,
     "metadata": {},
     "output_type": "execute_result"
    }
   ],
   "source": [
    "book_df.dtypes"
   ]
  },
  {
   "cell_type": "code",
   "execution_count": 11,
   "id": "83437a44-f046-42e0-b3e3-17c740f11131",
   "metadata": {},
   "outputs": [
    {
     "name": "stdout",
     "output_type": "stream",
     "text": [
      "<class 'pandas.core.frame.DataFrame'>\n",
      "RangeIndex: 11127 entries, 0 to 11126\n",
      "Data columns (total 4 columns):\n",
      " #   Column          Non-Null Count  Dtype \n",
      "---  ------          --------------  ----- \n",
      " 0   bookID          11127 non-null  int64 \n",
      " 1   title           11127 non-null  object\n",
      " 2   authors         11127 non-null  object\n",
      " 3   average_rating  11127 non-null  object\n",
      "dtypes: int64(1), object(3)\n",
      "memory usage: 347.8+ KB\n"
     ]
    }
   ],
   "source": [
    "book_df.info()"
   ]
  },
  {
   "cell_type": "code",
   "execution_count": 12,
   "id": "fa12e5f7-95e0-43c6-aec4-50e5eb676829",
   "metadata": {},
   "outputs": [
    {
     "data": {
      "text/plain": [
       "bookID            0\n",
       "title             0\n",
       "authors           0\n",
       "average_rating    0\n",
       "dtype: int64"
      ]
     },
     "execution_count": 12,
     "metadata": {},
     "output_type": "execute_result"
    }
   ],
   "source": [
    "book_df.isnull().sum()"
   ]
  },
  {
   "cell_type": "markdown",
   "id": "5461177c-5222-43ae-94a9-60b67a229215",
   "metadata": {},
   "source": [
    "**EDA**"
   ]
  },
  {
   "cell_type": "markdown",
   "id": "643e9c7d-48ac-4606-9074-5acbda11ca48",
   "metadata": {},
   "source": [
    "**book ID**"
   ]
  },
  {
   "cell_type": "code",
   "execution_count": 13,
   "id": "e0b36d92-b551-442a-babb-bb5252b881d1",
   "metadata": {},
   "outputs": [
    {
     "data": {
      "text/plain": [
       "0            1\n",
       "1            2\n",
       "2            4\n",
       "3            5\n",
       "4            8\n",
       "         ...  \n",
       "11122    45631\n",
       "11123    45633\n",
       "11124    45634\n",
       "11125    45639\n",
       "11126    45641\n",
       "Name: bookID, Length: 11127, dtype: int64"
      ]
     },
     "execution_count": 13,
     "metadata": {},
     "output_type": "execute_result"
    }
   ],
   "source": [
    "book_df[\"bookID\"]"
   ]
  },
  {
   "cell_type": "code",
   "execution_count": 14,
   "id": "14925064-bf94-40f5-a024-1c3bda155074",
   "metadata": {},
   "outputs": [
    {
     "data": {
      "text/plain": [
       "11127"
      ]
     },
     "execution_count": 14,
     "metadata": {},
     "output_type": "execute_result"
    }
   ],
   "source": [
    "book_df[\"bookID\"].nunique()"
   ]
  },
  {
   "cell_type": "markdown",
   "id": "025b7068-3f94-40d4-88e3-478297121fe6",
   "metadata": {},
   "source": [
    "**autrhors**"
   ]
  },
  {
   "cell_type": "code",
   "execution_count": 15,
   "id": "2fd5b323-38c7-4907-b5c8-f50eedbe8e33",
   "metadata": {},
   "outputs": [
    {
     "data": {
      "text/plain": [
       "0                               J.K. Rowling/Mary GrandPré\n",
       "1                               J.K. Rowling/Mary GrandPré\n",
       "2                                             J.K. Rowling\n",
       "3                               J.K. Rowling/Mary GrandPré\n",
       "4                               J.K. Rowling/Mary GrandPré\n",
       "                               ...                        \n",
       "11122    William T. Vollmann/Larry McCaffery/Michael He...\n",
       "11123                                  William T. Vollmann\n",
       "11124                                  William T. Vollmann\n",
       "11125                                  William T. Vollmann\n",
       "11126                                           Mark Twain\n",
       "Name: authors, Length: 11127, dtype: object"
      ]
     },
     "execution_count": 15,
     "metadata": {},
     "output_type": "execute_result"
    }
   ],
   "source": [
    "book_df[\"authors\"]"
   ]
  },
  {
   "cell_type": "code",
   "execution_count": 16,
   "id": "708ea980-7b43-4caf-a839-8e08f992418f",
   "metadata": {},
   "outputs": [
    {
     "data": {
      "text/plain": [
       "6643"
      ]
     },
     "execution_count": 16,
     "metadata": {},
     "output_type": "execute_result"
    }
   ],
   "source": [
    "book_df[\"authors\"].nunique()"
   ]
  },
  {
   "cell_type": "markdown",
   "id": "93e1ee75-bfb9-43fa-b280-41ceb93e42af",
   "metadata": {},
   "source": [
    "**average_rating**"
   ]
  },
  {
   "cell_type": "code",
   "execution_count": 17,
   "id": "94c39a7e-0797-4f0e-82e4-f54fab9f7549",
   "metadata": {},
   "outputs": [
    {
     "data": {
      "text/plain": [
       "0        4.57\n",
       "1        4.49\n",
       "2        4.42\n",
       "3        4.56\n",
       "4        4.78\n",
       "         ... \n",
       "11122    4.06\n",
       "11123    4.08\n",
       "11124    3.96\n",
       "11125    3.72\n",
       "11126    3.91\n",
       "Name: average_rating, Length: 11127, dtype: object"
      ]
     },
     "execution_count": 17,
     "metadata": {},
     "output_type": "execute_result"
    }
   ],
   "source": [
    "book_df[\"average_rating\"]"
   ]
  },
  {
   "cell_type": "code",
   "execution_count": 18,
   "id": "3988c764-f234-41da-ac91-854f63a53ba0",
   "metadata": {},
   "outputs": [
    {
     "data": {
      "text/plain": [
       "dtype('O')"
      ]
     },
     "execution_count": 18,
     "metadata": {},
     "output_type": "execute_result"
    }
   ],
   "source": [
    "book_df[\"average_rating\"].dtype"
   ]
  },
  {
   "cell_type": "markdown",
   "id": "96a39751-7c32-404e-b9d6-8657fbda6a37",
   "metadata": {},
   "source": [
    "**conversion to numerical**"
   ]
  },
  {
   "cell_type": "code",
   "execution_count": 19,
   "id": "eaec10fc-12f4-448a-8502-822105c8ec4e",
   "metadata": {},
   "outputs": [],
   "source": [
    "book_df[\"average_rating\"]=pd.to_numeric(book_df[\"average_rating\"], errors='coerce')"
   ]
  },
  {
   "cell_type": "code",
   "execution_count": 20,
   "id": "a8fceaa2-6bc6-4284-9bd2-22b00fbc0d78",
   "metadata": {},
   "outputs": [
    {
     "data": {
      "text/plain": [
       "0        4.57\n",
       "1        4.49\n",
       "2        4.42\n",
       "3        4.56\n",
       "4        4.78\n",
       "         ... \n",
       "11122    4.06\n",
       "11123    4.08\n",
       "11124    3.96\n",
       "11125    3.72\n",
       "11126    3.91\n",
       "Name: average_rating, Length: 11127, dtype: float64"
      ]
     },
     "execution_count": 20,
     "metadata": {},
     "output_type": "execute_result"
    }
   ],
   "source": [
    "book_df[\"average_rating\"]"
   ]
  },
  {
   "cell_type": "code",
   "execution_count": 21,
   "id": "ccf30221-8618-4035-bf2a-08aa3b9bef42",
   "metadata": {},
   "outputs": [
    {
     "data": {
      "text/plain": [
       "dtype('float64')"
      ]
     },
     "execution_count": 21,
     "metadata": {},
     "output_type": "execute_result"
    }
   ],
   "source": [
    "book_df[\"average_rating\"].dtype"
   ]
  },
  {
   "cell_type": "code",
   "execution_count": 22,
   "id": "54676d29-4abb-4f20-be3c-5f0f99c66c75",
   "metadata": {},
   "outputs": [],
   "source": [
    "book_df['book_content'] = book_df['title'] + ' ' + book_df['authors']"
   ]
  },
  {
   "cell_type": "code",
   "execution_count": 23,
   "id": "6aa9d003-35e5-4352-8be3-dea618135db7",
   "metadata": {},
   "outputs": [
    {
     "data": {
      "text/plain": [
       "0        Harry Potter and the Half-Blood Prince (Harry ...\n",
       "1        Harry Potter and the Order of the Phoenix (Har...\n",
       "2        Harry Potter and the Chamber of Secrets (Harry...\n",
       "3        Harry Potter and the Prisoner of Azkaban (Harr...\n",
       "4        Harry Potter Boxed Set  Books 1-5 (Harry Potte...\n",
       "                               ...                        \n",
       "11122    Expelled from Eden: A William T. Vollmann Read...\n",
       "11123      You Bright and Risen Angels William T. Vollmann\n",
       "11124    The Ice-Shirt (Seven Dreams #1) William T. Vol...\n",
       "11125                      Poor People William T. Vollmann\n",
       "11126               Las aventuras de Tom Sawyer Mark Twain\n",
       "Name: book_content, Length: 11127, dtype: object"
      ]
     },
     "execution_count": 23,
     "metadata": {},
     "output_type": "execute_result"
    }
   ],
   "source": [
    "book_df['book_content'] "
   ]
  },
  {
   "cell_type": "code",
   "execution_count": 24,
   "id": "ae4449f5-f40b-4796-8c62-61adb8306da4",
   "metadata": {},
   "outputs": [],
   "source": [
    "from sklearn.feature_extraction.text import TfidfVectorizer\n",
    "from sklearn.metrics.pairwise import linear_kernel"
   ]
  },
  {
   "cell_type": "code",
   "execution_count": 25,
   "id": "78d28282-9899-4c6a-9327-abe656fe1a62",
   "metadata": {},
   "outputs": [],
   "source": [
    "tfidf_vectorizer = TfidfVectorizer(stop_words='english')\n",
    "tfidf_matrix = tfidf_vectorizer.fit_transform(book_df['book_content'])\n"
   ]
  },
  {
   "cell_type": "code",
   "execution_count": 26,
   "id": "eb0c1093-6637-45d5-b67d-3bf8867ddbf9",
   "metadata": {},
   "outputs": [],
   "source": [
    "cosine_sim = linear_kernel(tfidf_matrix, tfidf_matrix)"
   ]
  },
  {
   "cell_type": "code",
   "execution_count": 27,
   "id": "8a64aaf0-681b-4180-9b62-a37d4c99405d",
   "metadata": {},
   "outputs": [],
   "source": [
    "def recommend_books(book_title, cosine_sim=cosine_sim):\n",
    "    idx = book_df[book_df['title'] == book_title].index[0]\n",
    "    sim_scores = list(enumerate(cosine_sim[idx]))\n",
    "    sim_scores = sorted(sim_scores, key=lambda x: x[1], reverse=True)\n",
    "    sim_scores = sim_scores[1:11]\n",
    "    book_indices = [i[0] for i in sim_scores]                         \n",
    "    return book_df['title'].iloc[book_indices] # Return the top 10 recommended books\n"
   ]
  },
  {
   "cell_type": "code",
   "execution_count": 28,
   "id": "a69c0a04-a10e-4aae-9e4b-07f95513e38b",
   "metadata": {},
   "outputs": [
    {
     "name": "stdout",
     "output_type": "stream",
     "text": [
      "6191      CliffsNotes on Joyce's Dubliners (Cliffs Notes)\n",
      "2988                                            Dubliners\n",
      "2987                             The Portable James Joyce\n",
      "3981                      White Noise: Text and Criticism\n",
      "7704               The Quiet American: Text and Criticism\n",
      "2871                          Sam Walton: Made In America\n",
      "6188                                            Dubliners\n",
      "2788                                    Dumpy's Valentine\n",
      "796     Great Expectations: Authoritative Text  Backgr...\n",
      "8199    Middlemarch: An Authoritative Text  Background...\n",
      "Name: title, dtype: object\n"
     ]
    }
   ],
   "source": [
    "book_title = \"Dubliners: Text  Criticism  and Notes\"\n",
    "recommended_books = recommend_books(book_title)\n",
    "print(recommended_books)\n"
   ]
  },
  {
   "cell_type": "code",
   "execution_count": null,
   "id": "7824fce3-09df-49cc-9915-d9bb01b6d8b7",
   "metadata": {},
   "outputs": [],
   "source": []
  }
 ],
 "metadata": {
  "kernelspec": {
   "display_name": "Python 3 (ipykernel)",
   "language": "python",
   "name": "python3"
  },
  "language_info": {
   "codemirror_mode": {
    "name": "ipython",
    "version": 3
   },
   "file_extension": ".py",
   "mimetype": "text/x-python",
   "name": "python",
   "nbconvert_exporter": "python",
   "pygments_lexer": "ipython3",
   "version": "3.11.5"
  }
 },
 "nbformat": 4,
 "nbformat_minor": 5
}
